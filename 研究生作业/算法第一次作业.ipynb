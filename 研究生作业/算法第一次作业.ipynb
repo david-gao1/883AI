{
 "cells": [
  {
   "cell_type": "code",
   "id": "initial_id",
   "metadata": {
    "collapsed": true,
    "ExecuteTime": {
     "end_time": "2025-10-25T06:20:10.066775Z",
     "start_time": "2025-10-25T06:20:10.060887Z"
    }
   },
   "source": [
    "class Result:\n",
    "    \"\"\"存储最优买卖市场的结果类\"\"\"\n",
    "    def __init__(self, buy_idx, sell_idx, profit):\n",
    "        self.buy_idx = buy_idx  # 买入市场索引\n",
    "        self.sell_idx = sell_idx  # 卖出市场索引\n",
    "        self.profit = profit  # 利润\n",
    "\n",
    "def max_cross_profit(B, S, low, mid, high):\n",
    "    \"\"\"计算跨区间的最大利润（左买右卖）\"\"\"\n",
    "    # 左半区间找最小买入价及对应索引\n",
    "    min_buy = float('inf')\n",
    "    buy_idx = -1\n",
    "    for i in range(low, mid + 1):\n",
    "        if B[i] < min_buy:\n",
    "            min_buy = B[i]\n",
    "            buy_idx = i\n",
    "    \n",
    "    # 右半区间找最大卖出价及对应索引\n",
    "    max_sell = float('-inf')\n",
    "    sell_idx = -1\n",
    "    for i in range(mid + 1, high + 1):\n",
    "        if S[i] > max_sell:\n",
    "            max_sell = S[i]\n",
    "            sell_idx = i\n",
    "    \n",
    "    # 计算跨区间利润（无效情况利润为0）\n",
    "    profit = (max_sell - min_buy) if (sell_idx != -1 and buy_idx != -1) else 0\n",
    "    return Result(buy_idx, sell_idx, profit)\n",
    "\n",
    "def max_profit_divide_conquer(B, S, low, high):\n",
    "    \"\"\"分治函数：求解区间[low, high]内的最大利润及对应买卖市场\"\"\"\n",
    "    # 基本情况：区间只有一个市场，无法买卖\n",
    "    if low == high:\n",
    "        return Result(-1, -1, 0)\n",
    "    \n",
    "    mid = (low + high) // 2\n",
    "    \n",
    "    # 递归求解左、右子区间\n",
    "    left = max_profit_divide_conquer(B, S, low, mid)\n",
    "    right = max_profit_divide_conquer(B, S, mid + 1, high)\n",
    "    # 计算跨区间利润\n",
    "    cross = max_cross_profit(B, S, low, mid, high)\n",
    "    \n",
    "    # 比较三种情况，返回最大利润结果\n",
    "    if left.profit >= right.profit and left.profit >= cross.profit:\n",
    "        return left\n",
    "    elif right.profit >= left.profit and right.profit >= cross.profit:\n",
    "        return right\n",
    "    else:\n",
    "        return cross\n",
    "\n",
    "if __name__ == \"__main__\":\n",
    "    # 示例数据（B为买入价数组，S为卖出价数组，索引0对应市场1）\n",
    "    B = [5, 4, 8, 2, 7, 9]\n",
    "    S = [3, 3, 7, 1, 6, 7]\n",
    "    n = len(B)\n",
    "    \n",
    "    # 求解最大利润\n",
    "    result = max_profit_divide_conquer(B, S, 0, n - 1)\n",
    "    \n",
    "    # 输出结果（市场编号=索引+1）\n",
    "    print(f\"最优买入市场：{result.buy_idx + 1}（买入价：{B[result.buy_idx]}）\")\n",
    "    print(f\"最优卖出市场：{result.sell_idx + 1}（卖出价：{S[result.sell_idx]}）\")\n",
    "    print(f\"最大利润：{result.profit} 元\")"
   ],
   "outputs": [
    {
     "name": "stdout",
     "output_type": "stream",
     "text": [
      "最优买入市场：4（买入价：2）\n",
      "最优卖出市场：6（卖出价：7）\n",
      "最大利润：5 元\n"
     ]
    }
   ],
   "execution_count": 1
  },
  {
   "metadata": {},
   "cell_type": "code",
   "outputs": [],
   "execution_count": null,
   "source": "",
   "id": "2f1c75a196b01a41"
  }
 ],
 "metadata": {
  "kernelspec": {
   "display_name": "883ai",
   "language": "python",
   "name": "883ai"
  },
  "language_info": {
   "codemirror_mode": {
    "name": "ipython",
    "version": 2
   },
   "file_extension": ".py",
   "mimetype": "text/x-python",
   "name": "python",
   "nbconvert_exporter": "python",
   "pygments_lexer": "ipython2",
   "version": "2.7.6"
  }
 },
 "nbformat": 4,
 "nbformat_minor": 5
}
