{
 "cells": [
  {
   "metadata": {},
   "cell_type": "markdown",
   "source": "# 1、苹果利润率",
   "id": "1f5c804e90b889d9"
  },
  {
   "cell_type": "code",
   "id": "initial_id",
   "metadata": {
    "collapsed": true,
    "ExecuteTime": {
     "end_time": "2025-10-25T06:20:10.066775Z",
     "start_time": "2025-10-25T06:20:10.060887Z"
    }
   },
   "source": [
    "class Result:\n",
    "    \"\"\"存储最优买卖市场的结果类\"\"\"\n",
    "    def __init__(self, buy_idx, sell_idx, profit):\n",
    "        self.buy_idx = buy_idx  # 买入市场索引\n",
    "        self.sell_idx = sell_idx  # 卖出市场索引\n",
    "        self.profit = profit  # 利润\n",
    "\n",
    "def max_cross_profit(B, S, low, mid, high):\n",
    "    \"\"\"计算跨区间的最大利润（左买右卖）\"\"\"\n",
    "    # 左半区间找最小买入价及对应索引\n",
    "    min_buy = float('inf')\n",
    "    buy_idx = -1\n",
    "    for i in range(low, mid + 1):\n",
    "        if B[i] < min_buy:\n",
    "            min_buy = B[i]\n",
    "            buy_idx = i\n",
    "    \n",
    "    # 右半区间找最大卖出价及对应索引\n",
    "    max_sell = float('-inf')\n",
    "    sell_idx = -1\n",
    "    for i in range(mid + 1, high + 1):\n",
    "        if S[i] > max_sell:\n",
    "            max_sell = S[i]\n",
    "            sell_idx = i\n",
    "    \n",
    "    # 计算跨区间利润（无效情况利润为0）\n",
    "    profit = (max_sell - min_buy) if (sell_idx != -1 and buy_idx != -1) else 0\n",
    "    return Result(buy_idx, sell_idx, profit)\n",
    "\n",
    "def max_profit_divide_conquer(B, S, low, high):\n",
    "    \"\"\"分治函数：求解区间[low, high]内的最大利润及对应买卖市场\"\"\"\n",
    "    # 基本情况：区间只有一个市场，无法买卖\n",
    "    if low == high:\n",
    "        return Result(-1, -1, 0)\n",
    "    \n",
    "    mid = (low + high) // 2\n",
    "    \n",
    "    # 递归求解左、右子区间\n",
    "    left = max_profit_divide_conquer(B, S, low, mid)\n",
    "    right = max_profit_divide_conquer(B, S, mid + 1, high)\n",
    "    # 计算跨区间利润\n",
    "    cross = max_cross_profit(B, S, low, mid, high)\n",
    "    \n",
    "    # 比较三种情况，返回最大利润结果\n",
    "    if left.profit >= right.profit and left.profit >= cross.profit:\n",
    "        return left\n",
    "    elif right.profit >= left.profit and right.profit >= cross.profit:\n",
    "        return right\n",
    "    else:\n",
    "        return cross\n",
    "\n",
    "if __name__ == \"__main__\":\n",
    "    # 示例数据（B为买入价数组，S为卖出价数组，索引0对应市场1）\n",
    "    B = [5, 4, 8, 2, 7, 9]\n",
    "    S = [3, 3, 7, 1, 6, 7]\n",
    "    n = len(B)\n",
    "    \n",
    "    # 求解最大利润\n",
    "    result = max_profit_divide_conquer(B, S, 0, n - 1)\n",
    "    \n",
    "    # 输出结果（市场编号=索引+1）\n",
    "    print(f\"最优买入市场：{result.buy_idx + 1}（买入价：{B[result.buy_idx]}）\")\n",
    "    print(f\"最优卖出市场：{result.sell_idx + 1}（卖出价：{S[result.sell_idx]}）\")\n",
    "    print(f\"最大利润：{result.profit} 元\")"
   ],
   "outputs": [
    {
     "name": "stdout",
     "output_type": "stream",
     "text": [
      "最优买入市场：4（买入价：2）\n",
      "最优卖出市场：6（卖出价：7）\n",
      "最大利润：5 元\n"
     ]
    }
   ],
   "execution_count": 1
  },
  {
   "metadata": {},
   "cell_type": "markdown",
   "source": "# 2、最小堆排序算法",
   "id": "af6b1992f0df15a8"
  },
  {
   "metadata": {
    "ExecuteTime": {
     "end_time": "2025-10-25T06:32:37.065151Z",
     "start_time": "2025-10-25T06:32:37.057530Z"
    }
   },
   "cell_type": "code",
   "source": [
    "import heapq\n",
    "\n",
    "def merge_k_sorted_lists(lists):\n",
    "    \"\"\"\n",
    "    将k个有序子序列合并为一个有序序列\n",
    "    :param lists: 包含k个有序子序列的列表（每个子序列为list）\n",
    "    :return: 合并后的有序序列\n",
    "    \"\"\"\n",
    "    # 初始化最小堆，存储元组（当前元素值，子序列索引，子序列内当前元素的索引）\n",
    "    min_heap = []\n",
    "    for i, sublist in enumerate(lists):\n",
    "        if sublist:  # 避免空列表\n",
    "            heapq.heappush(min_heap, (sublist[0], i, 0))\n",
    "    \n",
    "    result = []\n",
    "    while min_heap:\n",
    "        # 取出堆顶元素（当前最小值）\n",
    "        val, list_idx, elem_idx = heapq.heappop(min_heap)\n",
    "        result.append(val)\n",
    "        \n",
    "        # 将该子序列的下一个元素加入堆（若存在）\n",
    "        next_elem_idx = elem_idx + 1\n",
    "        if next_elem_idx < len(lists[list_idx]):\n",
    "            heapq.heappush(min_heap, (lists[list_idx][next_elem_idx], list_idx, next_elem_idx))\n",
    "    \n",
    "    return result\n",
    "\n",
    "# 示例测试\n",
    "if __name__ == \"__main__\":\n",
    "    # 3个有序子序列\n",
    "    lists = [\n",
    "        [1, 4, 7],\n",
    "        [2, 5, 8],\n",
    "        [3, 6, 9]\n",
    "    ]\n",
    "    merged = merge_k_sorted_lists(lists)\n",
    "    print(\"合并后的有序序列：\", merged)  # 输出：[1, 2, 3, 4, 5, 6, 7, 8, 9]"
   ],
   "id": "b98186856ea4332d",
   "outputs": [
    {
     "name": "stdout",
     "output_type": "stream",
     "text": [
      "合并后的有序序列： [1, 2, 3, 4, 5, 6, 7, 8, 9]\n"
     ]
    }
   ],
   "execution_count": 1
  },
  {
   "metadata": {},
   "cell_type": "markdown",
   "source": "# 基数排序",
   "id": "c79201a7098b0028"
  },
  {
   "metadata": {
    "ExecuteTime": {
     "end_time": "2025-10-25T06:55:41.612334Z",
     "start_time": "2025-10-25T06:55:41.607217Z"
    }
   },
   "cell_type": "code",
   "source": [
    "def radix_sort(nums, n):\n",
    "    \"\"\"\n",
    "    基数排序实现O(n)时间排序，其中nums中每个数的范围是[0, n²-1]\n",
    "    :param nums: 待排序数组\n",
    "    :param n: 数组长度，同时决定数的范围和进制\n",
    "    :return: 排序后的数组\n",
    "    \"\"\"\n",
    "    # 第一轮：按低位（num % n）排序\n",
    "    count = [[] for _ in range(n)]\n",
    "    for num in nums:\n",
    "        low = num % n\n",
    "        count[low].append(num)\n",
    "    # 合并结果\n",
    "    nums = [num for bucket in count for num in bucket]\n",
    "    \n",
    "    # 第二轮：按高位（num // n）排序\n",
    "    count = [[] for _ in range(n)]\n",
    "    for num in nums:\n",
    "        high = num // n\n",
    "        count[high].append(num)\n",
    "    # 合并结果\n",
    "    nums = [num for bucket in count for num in bucket]\n",
    "    \n",
    "    return nums\n",
    "\n",
    "# 示例测试\n",
    "if __name__ == \"__main__\":\n",
    "    n = 5\n",
    "    nums = [12, 3, 20, 18, 7]  # 取值范围[0, 5²-1]=[0,24]\n",
    "    sorted_nums = radix_sort(nums, n)\n",
    "    print(\"排序结果：\", sorted_nums)"
   ],
   "id": "e4349a894c48da86",
   "outputs": [
    {
     "name": "stdout",
     "output_type": "stream",
     "text": [
      "排序结果： [3, 7, 12, 18, 20]\n"
     ]
    }
   ],
   "execution_count": 3
  },
  {
   "metadata": {},
   "cell_type": "code",
   "outputs": [],
   "execution_count": null,
   "source": "    ",
   "id": "97c2420ad262a108"
  }
 ],
 "metadata": {
  "kernelspec": {
   "display_name": "883ai",
   "language": "python",
   "name": "883ai"
  },
  "language_info": {
   "codemirror_mode": {
    "name": "ipython",
    "version": 2
   },
   "file_extension": ".py",
   "mimetype": "text/x-python",
   "name": "python",
   "nbconvert_exporter": "python",
   "pygments_lexer": "ipython2",
   "version": "2.7.6"
  }
 },
 "nbformat": 4,
 "nbformat_minor": 5
}
