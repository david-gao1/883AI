{
 "cells": [
  {
   "metadata": {},
   "cell_type": "markdown",
   "source": [
    "# 1. 温度转换\n",
    " 设“华氏温度”为F，“摄氏温度”为C，则转换公式分别为：C = (F - 32)/1.8 ； F = C*1.8+ 32 ，用python代码实现华氏温度与摄氏温度之间的转换，要求输入以C，c或f，F结尾。"
   ],
   "id": "bafd6dd2a9886b25"
  },
  {
   "metadata": {
    "ExecuteTime": {
     "end_time": "2024-08-06T14:07:50.714713Z",
     "start_time": "2024-08-06T14:07:45.866953Z"
    }
   },
   "cell_type": "code",
   "source": [
    "t = input(\"请输入带符号的温度值：\")\n",
    "if t[-1] in [\"F\", \"f\"]:\n",
    "    c = ((eval(t[0:-1]) - 32) / 1.8)\n",
    "    print(\"转换后的温度是{:.2f}C\".format(c))\n",
    "elif t[-1] in [\"C\", \"c\"]:\n",
    "    c = eval(t[0:-1]) * 1.8 + 32\n",
    "    print(\"转换后的温度是{:.2f}F\".format(c))\n",
    "else:\n",
    "    print(\"输入格式错误\")\n"
   ],
   "id": "ca10ba65b4bf9a24",
   "outputs": [
    {
     "name": "stdout",
     "output_type": "stream",
     "text": [
      "转换后的温度是228.89C\n"
     ]
    }
   ],
   "execution_count": 4
  },
  {
   "metadata": {},
   "cell_type": "markdown",
   "source": [
    "# 2. 时间转换\n",
    " 给定一个以秒为单位的时间t，要求用\" < H> : < M > : < S >”的格式来表示这个时间，＜H＞表示小时，< M >表示分钟，< S >表示秒，它们都是整数。例如t = 0，则应输出“0：0：0”；若t＝3661，则输出“1：1：1”，用Python代码实现上述过程。"
   ],
   "id": "af36061e6fe5f349"
  },
  {
   "metadata": {
    "ExecuteTime": {
     "end_time": "2024-08-06T14:18:04.566387Z",
     "start_time": "2024-08-06T14:18:00.362571Z"
    }
   },
   "cell_type": "code",
   "source": [
    "t = eval(input('请输入要转换的时间t:'))\n",
    "H = t // 3600  # //:代表整数除法 3600秒的几倍：小时\n",
    "t = t % 3600  # 3600取余，去掉小时后的秒\n",
    "M = t // 60  # 60秒的多少倍：分钟\n",
    "S = t % 60  # 60取余，去掉分钟后的秒，\n",
    "print('{}:{}:{}'.format(H, M, S))\n"
   ],
   "id": "397ebd6dfcabd64e",
   "outputs": [
    {
     "name": "stdout",
     "output_type": "stream",
     "text": [
      "1:1:1\n"
     ]
    }
   ],
   "execution_count": 8
  },
  {
   "metadata": {},
   "cell_type": "markdown",
   "source": [
    "# 3. 猜数游戏\n",
    "程序给出一个固定的数字，用户通过键盘输入一个数，如果这个数与程序给出的数字相同，输出“恭喜你猜对了”，如果这个数字比程序给出的数字大则输出“太大了”，如果小输出“太小了”，用Python代码实现上述过程。"
   ],
   "id": "43587661c322c4fe"
  },
  {
   "metadata": {
    "ExecuteTime": {
     "end_time": "2024-08-06T14:19:58.975477Z",
     "start_time": "2024-08-06T14:19:57.387952Z"
    }
   },
   "cell_type": "code",
   "source": [
    "y = 50\n",
    "x = eval(input('请输入你猜的数字：'))\n",
    "if x == y:\n",
    "    print('恭喜你猜对了')\n",
    "elif x > y:\n",
    "    print('太大了')\n",
    "else:\n",
    "    print('太小了')\n"
   ],
   "id": "49dff5dcc608ee77",
   "outputs": [
    {
     "name": "stdout",
     "output_type": "stream",
     "text": [
      "恭喜你猜对了\n"
     ]
    }
   ],
   "execution_count": 12
  },
  {
   "metadata": {},
   "cell_type": "markdown",
   "source": [
    "# 4. 剪刀石头布游戏\n",
    "小明和小红想玩“剪刀石头布”游戏，在这个游戏中，两个人同时出“剪刀”、“石头”或“布”，压过另一方的为胜者。规则是：“布”胜过“石头”，“石头”胜过“剪刀”，“剪刀”胜过“布”。通过输入两人的选择，由程序判断输赢，并输出相应的结果。"
   ],
   "id": "db7370d0f4e8e200"
  },
  {
   "metadata": {
    "ExecuteTime": {
     "end_time": "2024-08-06T14:21:19.368262Z",
     "start_time": "2024-08-06T14:21:08.684991Z"
    }
   },
   "cell_type": "code",
   "source": [
    "a, b = eval(input('请分别小明和小红的选择，并用逗号隔开:'))\n",
    "if (a == 1 and b == 0) or (a == 2 and b == 1) or (a == 0 and b == 2):\n",
    "    print('小明胜')\n",
    "if (a == 0 and b == 1) or (a == 1 and b == 2) or (a == 2 and b == 0):\n",
    "    print('小红胜')\n",
    "if a == b:\n",
    "    print('平局')\n"
   ],
   "id": "d76e12827aa9eff",
   "outputs": [
    {
     "name": "stdout",
     "output_type": "stream",
     "text": [
      "小红胜\n"
     ]
    }
   ],
   "execution_count": 13
  },
  {
   "metadata": {},
   "cell_type": "markdown",
   "source": [
    "# 5. 凯撒密码\n",
    "凯撒密码是古罗马凯撒大帝用来对军事情报进行加密的算法，它采用替换方法对每一个英文字符循环替换为字母表序中该字符后面第3个字符，对应关系如下：\n",
    "<br>\n",
    "原文：abcdefghijkmnopqrstuvwxyz\n",
    "<br>\n",
    "密文：defghijkmnopqrstuvwxyzabc\n",
    "<br>请用程序实现凯撒密码的加密过程。\n"
   ],
   "id": "8d1959d05b38d0f6"
  },
  {
   "metadata": {
    "ExecuteTime": {
     "end_time": "2024-08-06T14:23:08.421235Z",
     "start_time": "2024-08-06T14:23:05.225307Z"
    }
   },
   "cell_type": "code",
   "source": [
    "ciphertext = input('请输入需要加密的信息：')\n",
    "for P in ciphertext:\n",
    "    if 'a' <= P <= 'z':# 是否是小写字母\n",
    "        #ord 转换为ASCII值\n",
    "        # ASCII值 转换为字符\n",
    "        # 每个字符在ASCII表中都有一个唯一的数字表示。例如，大写字母'A'的ASCII码是65，小写字母'a'的ASCII码是97，数字'0'到'9'的ASCII码是48到57，空格的ASCII码是32，等等。\n",
    "        \n",
    "        # 1. 将字符 P 转换为以字母 'a' 为 起点 的偏移量，加上3表示向右移动3位。\n",
    "        # 2. % 26 用于确保偏移量在0到25之间，因为英文字母表有26个字母。\n",
    "        S = chr((ord(P) - ord('a') + 3) % 26 + ord('a'))\n",
    "    else: # 大写字母没有加密\n",
    "        S = P\n",
    "    #end='' 表示不换行\n",
    "    print(S, end='')\n",
    "\n",
    "# 输入：Life is short,I use Python!\n"
   ],
   "id": "7ae553b90423ba53",
   "outputs": [
    {
     "name": "stdout",
     "output_type": "stream",
     "text": [
      "Llih lv vkruw,I xvh Pbwkrq!"
     ]
    }
   ],
   "execution_count": 14
  },
  {
   "metadata": {},
   "cell_type": "code",
   "outputs": [],
   "execution_count": null,
   "source": "",
   "id": "5f19c3cae43d894f"
  },
  {
   "metadata": {},
   "cell_type": "markdown",
   "source": [
    "# 6. 文本进度条\n",
    "进度条是计算机处理任务或执行软件中常用的增强用户体验的重要手段，能实时显示任务或软件的执行进度，可以用print（）函数结合字符串的格式化实现非刷新文本进度条和单行刷新文本进度条。\n",
    "可以先按任务执行百分比将整个任务分为100个单位，每执行n％就输出一次进度条，每一次输出包含进度百分数，完成的部分用（＊＊表示），未完成的部分用（）表示，中间用一个小箭头分割，\n",
    "请将上述过程用程序实现。\n"
   ],
   "id": "5ba4166d848675f"
  },
  {
   "metadata": {
    "ExecuteTime": {
     "end_time": "2024-08-06T14:50:05.992136Z",
     "start_time": "2024-08-06T14:50:03.801488Z"
    }
   },
   "cell_type": "code",
   "source": [
    "import time\n",
    "\n",
    "scale = 20\n",
    "for i in range(scale + 1): # 不包含11\n",
    "    a = '**' * i # 从0开始，代表进度\n",
    "    b = '..' * (scale - i) #代表剩余的 \n",
    "    c = (i / scale) * 100\n",
    "    # 用于输出百分比 c，保留小数点前三位，不显示小数。\n",
    "    # 将一个浮点数格式化为一个长度为3的字符串，左对齐，并且不显示任何小数位，最后还有一个百分号 %。\n",
    "    #   <：左对齐；\n",
    "    #   3：总字符长度=3，如果少于则右侧填充空格\n",
    "    #   .0 : 这说明要输出的是整数而不是浮点数，并且不显示任何小数位。\n",
    "    #    f : 这表示输入的是浮点数。\n",
    "    #  \n",
    "    print('{:<3.0f}%[{}->{}]'.format(c, a, b))\n",
    "    time.sleep(0.1)"
   ],
   "id": "6d9f98a89c75100f",
   "outputs": [
    {
     "name": "stdout",
     "output_type": "stream",
     "text": [
      "0  %[->........................................]\n",
      "5  %[**->......................................]\n",
      "10 %[****->....................................]\n",
      "15 %[******->..................................]\n",
      "20 %[********->................................]\n",
      "25 %[**********->..............................]\n",
      "30 %[************->............................]\n",
      "35 %[**************->..........................]\n",
      "40 %[****************->........................]\n",
      "45 %[******************->......................]\n",
      "50 %[********************->....................]\n",
      "55 %[**********************->..................]\n",
      "60 %[************************->................]\n",
      "65 %[**************************->..............]\n",
      "70 %[****************************->............]\n",
      "75 %[******************************->..........]\n",
      "80 %[********************************->........]\n",
      "85 %[**********************************->......]\n",
      "90 %[************************************->....]\n",
      "95 %[**************************************->..]\n",
      "100%[****************************************->]\n"
     ]
    }
   ],
   "execution_count": 20
  },
  {
   "metadata": {},
   "cell_type": "code",
   "outputs": [],
   "execution_count": null,
   "source": "",
   "id": "c453f6fb7d5d19b4"
  }
 ],
 "metadata": {
  "kernelspec": {
   "display_name": "Python 3",
   "language": "python",
   "name": "python3"
  },
  "language_info": {
   "codemirror_mode": {
    "name": "ipython",
    "version": 2
   },
   "file_extension": ".py",
   "mimetype": "text/x-python",
   "name": "python",
   "nbconvert_exporter": "python",
   "pygments_lexer": "ipython2",
   "version": "2.7.6"
  }
 },
 "nbformat": 4,
 "nbformat_minor": 5
}
