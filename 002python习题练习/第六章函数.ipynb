{
 "cells": [
  {
   "metadata": {},
   "cell_type": "markdown",
   "source": [
    "# 1. 公式计算\n",
    "数学计算，编写python程序完成公式计算$C_n^m$，其中m和n的值由键盘输入。"
   ],
   "id": "aa787f5348c5d254"
  },
  {
   "cell_type": "code",
   "id": "initial_id",
   "metadata": {
    "collapsed": true,
    "ExecuteTime": {
     "end_time": "2024-08-07T01:21:20.386182Z",
     "start_time": "2024-08-07T01:21:15.622654Z"
    }
   },
   "source": [
    "def fact(a):\n",
    "    f = 1\n",
    "    for i in range(1, a + 1):\n",
    "        f *= i\n",
    "    return f\n",
    "\n",
    "\n",
    "n = eval(input('请输入n:'))\n",
    "m = eval(input('请输入m:'))\n",
    "#  Calculate n! / (m! * (n-m)!)\n",
    "c = fact(n) // (fact(m) * fact(n - m)) # 注意是整数整除\n",
    "print('结果为', c)\n"
   ],
   "outputs": [
    {
     "name": "stdout",
     "output_type": "stream",
     "text": [
      "结果为 15\n"
     ]
    }
   ],
   "execution_count": 6
  },
  {
   "metadata": {},
   "cell_type": "markdown",
   "source": "# 2. 输出日历，输入年份和月份，显示出指定月份的日历。\n",
   "id": "35ec455f10f817e4"
  },
  {
   "metadata": {
    "ExecuteTime": {
     "end_time": "2024-08-07T01:24:41.528121Z",
     "start_time": "2024-08-07T01:24:35.717544Z"
    }
   },
   "cell_type": "code",
   "source": [
    "# 判断是否为闰年\n",
    "def judge_leap_year(year):\n",
    "    if (year % 4 == 0 and year % 100 != 0) or year % 400 == 0:\n",
    "        return True\n",
    "    return False\n",
    "\n",
    "\n",
    "# 获取每个月的天数\n",
    "def get_month_days(year, month):\n",
    "    if month == 2:\n",
    "        if judge_leap_year(year):\n",
    "            return 29\n",
    "        return 28\n",
    "    elif month in [1, 3, 5, 7, 8, 10, 12]:\n",
    "        return 31\n",
    "    else:\n",
    "        return 30\n",
    "\n",
    "\n",
    "# 获取从当前年月到1990年1月1日的总天数\n",
    "def get_total_days(year, month):\n",
    "    days = 0\n",
    "    for i in range(1990, year):\n",
    "        if judge_leap_year(i):\n",
    "            days += 366\n",
    "        else:\n",
    "            days += 365\n",
    "    for i in range(1, month):\n",
    "        days += get_month_days(year, i)\n",
    "    return days\n",
    "\n",
    "\n",
    "# 主程序\n",
    "if __name__ == '__main__':\n",
    "    year = eval(input('请输入年份：'))\n",
    "    month = eval(input('请输入月份：'))\n",
    "    print('\\t\\t{}年{}月份日历'.format(year, month))\n",
    "    print('日\\t一\\t二\\t三\\t四\\t五\\t六')\n",
    "    print('--------------------------')\n",
    "    count = 0\n",
    "    # 确定当前月份的1号是星期几，将对应的位置空出来\n",
    "    for i in range((get_total_days(year, month) + 1) % 7):\n",
    "        print(end='\\t')\n",
    "        count += 1\n",
    "    # 按星期位置输出每个月的天数\n",
    "    for i in range(1, get_month_days(year, month) + 1):\n",
    "        print(i, end='\\t')\n",
    "        count += 1\n",
    "        if count % 7 == 0:\n",
    "            print()\n"
   ],
   "id": "c7c46eeba43ac8df",
   "outputs": [
    {
     "name": "stdout",
     "output_type": "stream",
     "text": [
      "\t\t2010年1月份日历\n",
      "日\t一\t二\t三\t四\t五\t六\n",
      "--------------------------\n",
      "\t\t\t\t\t1\t2\t\n",
      "3\t4\t5\t6\t7\t8\t9\t\n",
      "10\t11\t12\t13\t14\t15\t16\t\n",
      "17\t18\t19\t20\t21\t22\t23\t\n",
      "24\t25\t26\t27\t28\t29\t30\t\n",
      "31\t"
     ]
    }
   ],
   "execution_count": 7
  }
 ],
 "metadata": {
  "kernelspec": {
   "display_name": "Python 3",
   "language": "python",
   "name": "python3"
  },
  "language_info": {
   "codemirror_mode": {
    "name": "ipython",
    "version": 2
   },
   "file_extension": ".py",
   "mimetype": "text/x-python",
   "name": "python",
   "nbconvert_exporter": "python",
   "pygments_lexer": "ipython2",
   "version": "2.7.6"
  }
 },
 "nbformat": 4,
 "nbformat_minor": 5
}
