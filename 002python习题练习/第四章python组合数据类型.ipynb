{
 "cells": [
  {
   "metadata": {},
   "cell_type": "markdown",
   "source": [
    "# 1. 对列表元素求平均值\n",
    "已知一组数据［20,10,7,6,31］，请求出这一组数据的平均值。"
   ],
   "id": "a2161006febd9db0"
  },
  {
   "cell_type": "code",
   "id": "initial_id",
   "metadata": {
    "collapsed": true,
    "ExecuteTime": {
     "end_time": "2024-08-06T14:52:22.960755Z",
     "start_time": "2024-08-06T14:52:22.957358Z"
    }
   },
   "source": [
    "nums = [20, 10, 7, 6, 31]\n",
    "sum = 0\n",
    "for num in nums:\n",
    "    sum += num\n",
    "print('列表元素的平均值是', sum / len(nums))"
   ],
   "outputs": [
    {
     "name": "stdout",
     "output_type": "stream",
     "text": [
      "列表元素的平均值是 14.8\n"
     ]
    }
   ],
   "execution_count": 1
  },
  {
   "metadata": {},
   "cell_type": "markdown",
   "source": [
    "# 2. 删除3的倍数\n",
    "指定列表［23,45,78,87,11,67,89,13,243,56,67,311,431,111,141］，请将其中所有为3的倍数的元素删除，并输出剩余的元素及删除元素的个数。"
   ],
   "id": "d84cb0389c031676"
  },
  {
   "metadata": {
    "ExecuteTime": {
     "end_time": "2024-08-06T14:56:09.261283Z",
     "start_time": "2024-08-06T14:56:09.258082Z"
    }
   },
   "cell_type": "code",
   "source": [
    "nums = [23, 45, 78, 87, 11, 67, 89, 13, 243, 56, 67, 311, 431, 111, 141]\n",
    "nums_copy = nums.copy()  # 深拷贝，防止删除元素，影响循环\n",
    "count = 0\n",
    "print('删除后的元素列表为', end=' ')\n",
    "for num in nums_copy:\n",
    "    if num % 3 == 0:  # 没有余数便是3的倍数\n",
    "        nums.remove(num)\n",
    "        count += 1\n",
    "    else:\n",
    "        print(num, end=' ')\n",
    "print('\\n一共删除了{}个元素'.format(count))\n"
   ],
   "id": "d353f39e1a266d4c",
   "outputs": [
    {
     "name": "stdout",
     "output_type": "stream",
     "text": [
      "删除后的元素列表为 23 11 67 89 13 56 67 311 431 \n",
      "一共删除了6个元素\n"
     ]
    }
   ],
   "execution_count": 2
  },
  {
   "metadata": {},
   "cell_type": "markdown",
   "source": [
    "# 3. 计算消费额\n",
    "小明在咖啡店里点了双人下午套餐，包含两倍咖啡和两份点心：一杯卡布奇诺32元，一杯摩卡30元，一份抹茶蛋糕28元，一份布朗尼蛋糕36元，请用Python计算并输出消费总额。"
   ],
   "id": "1f2bd313a243fe6"
  },
  {
   "metadata": {
    "ExecuteTime": {
     "end_time": "2024-08-06T14:57:46.598242Z",
     "start_time": "2024-08-06T14:57:46.595738Z"
    }
   },
   "cell_type": "code",
   "source": [
    "menu = {'卡布奇诺': 38, '摩卡': 30, '抹茶蛋糕': 28, '布朗尼蛋糕': 26}\n",
    "total_price = 0\n",
    "for key in menu:\n",
    "    total_price += menu[key]\n",
    "print('一共消费了{}元'.format(total_price))"
   ],
   "id": "5897f8daf3bacd65",
   "outputs": [
    {
     "name": "stdout",
     "output_type": "stream",
     "text": [
      "一共消费了122元\n"
     ]
    }
   ],
   "execution_count": 3
  },
  {
   "metadata": {},
   "cell_type": "markdown",
   "source": [
    "# 4. 词频统计，以哈姆雷特为例\n",
    "在现实工作中常常会碰到这样的问题，一篇文章需要统计多次出现的词语，从而分析文章内容。在对网络信息进行自动检索和归档时，也常常会遇到这样的问题。\n",
    "词频统计本质是词语数量的累加问题，对每个词语设置一个计数器，每出现一次，相应的计数器就加1。因为一篇文章中的词语量比较大，为避免词语计数器发生混乱，可以将词语和相应的计数器组成一对键-值对。请用Python对《哈姆雷特》进行词频统计。\n"
   ],
   "id": "7261c9a232c3625a"
  },
  {
   "metadata": {
    "ExecuteTime": {
     "end_time": "2024-08-06T15:06:12.991425Z",
     "start_time": "2024-08-06T15:06:12.979817Z"
    }
   },
   "cell_type": "code",
   "source": [
    "def get_text():\n",
    "    file = open('shakespeare-hamlet.txt', 'r')\n",
    "    text = file.read()\n",
    "    text = text.lower()\n",
    "    # 去掉特殊字符\n",
    "    for char in '!\"#$%&()*+,-./:;<=>?@[\\\\\\\\]^_{|}~':\n",
    "        text = text.replace(char, ' ')\n",
    "    return text\n",
    "\n",
    "\n",
    "txt = get_text()\n",
    "words = txt.split()  # 默认按空格分隔\n",
    "counts = {} # map\n",
    "for word in words:\n",
    "    # 对应的值进行累加，如果 word 不在字典中，则默认为0后再加1。\n",
    "    counts[word] = counts.get(word, 0) + 1\n",
    "# 将 counts 字典转换为包含元组的列表 items，每个元组包含单词和其对应的频率。\n",
    "items = list(counts.items())\n",
    "# 对第二个元素降序排序\n",
    "items.sort(key=lambda x: x[1], reverse=True)\n",
    "# 输出出现频率最高的前十个单词及其出现次数。\n",
    "for i in range(10):\n",
    "    word, item = items[i]\n",
    "    # 左对齐并保留12个字符的宽度\n",
    "    # 右对齐保留5个字符的宽度\n",
    "    print('{:<12}{:>5}'.format(word, item))\n"
   ],
   "id": "595ea68c0426bc7b",
   "outputs": [
    {
     "name": "stdout",
     "output_type": "stream",
     "text": [
      "the           993\n",
      "and           862\n",
      "to            683\n",
      "of            610\n",
      "i             547\n",
      "you           522\n",
      "a             509\n",
      "my            502\n",
      "it            415\n",
      "in            384\n"
     ]
    }
   ],
   "execution_count": 4
  },
  {
   "metadata": {},
   "cell_type": "code",
   "outputs": [],
   "execution_count": null,
   "source": "",
   "id": "db9e7c11e8392e94"
  }
 ],
 "metadata": {
  "kernelspec": {
   "display_name": "Python 3",
   "language": "python",
   "name": "python3"
  },
  "language_info": {
   "codemirror_mode": {
    "name": "ipython",
    "version": 2
   },
   "file_extension": ".py",
   "mimetype": "text/x-python",
   "name": "python",
   "nbconvert_exporter": "python",
   "pygments_lexer": "ipython2",
   "version": "2.7.6"
  }
 },
 "nbformat": 4,
 "nbformat_minor": 5
}
