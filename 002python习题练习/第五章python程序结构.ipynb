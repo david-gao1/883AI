{
 "cells": [
  {
   "metadata": {},
   "cell_type": "markdown",
   "source": [
    "# 1. 成绩等级\n",
    "编写Python程序完成以下要求：学习成绩＞＝90分的同学等级用A表示，60-89分之间的等级是B，60分以下的等级是C，成绩通过键盘输入。"
   ],
   "id": "9449abaedf5d6860"
  },
  {
   "cell_type": "code",
   "id": "initial_id",
   "metadata": {
    "collapsed": true,
    "ExecuteTime": {
     "end_time": "2024-08-07T00:43:58.458525Z",
     "start_time": "2024-08-07T00:43:55.037790Z"
    }
   },
   "source": [
    "s = int(input(\"请输入成绩:\"))\n",
    "if s >= 90:\n",
    "    grade = \"A\"\n",
    "elif s >= 60:\n",
    "    grade = \"B\"\n",
    "else:\n",
    "    grade = \"C\"\n",
    "print(\"您的考试成绩为:%d，等级为:%s\" % (s, grade))\n"
   ],
   "outputs": [
    {
     "name": "stdout",
     "output_type": "stream",
     "text": [
      "您的考试成绩为:66，等级为:B\n"
     ]
    }
   ],
   "execution_count": 1
  },
  {
   "metadata": {},
   "cell_type": "markdown",
   "source": "使用键盘来录入一行字符，并分别统计出其中英文字母、空格、数字和其它字符的个数。",
   "id": "6cf8762d8270bd2b"
  },
  {
   "metadata": {
    "ExecuteTime": {
     "end_time": "2024-08-07T01:02:06.769140Z",
     "start_time": "2024-08-07T01:01:58.208256Z"
    }
   },
   "cell_type": "code",
   "source": [
    "s = input(\"input a string:\")\n",
    "letter = 0  # 统计字母\n",
    "space = 0  # 统计空格\n",
    "digit = 0  # 统计数字\n",
    "other = 0  # 统计其他字符\n",
    "for c in s:\n",
    "    if c.isalpha():\n",
    "        letter += 1\n",
    "    elif c.isspace():\n",
    "        space += 1\n",
    "    elif c.isdigit():\n",
    "        digit += 1\n",
    "    else:\n",
    "        other += 1\n",
    "print(\"字母:{},空格:{},数字:{},其他字符:{}\".\n",
    "      format(letter, space, digit, other))\n"
   ],
   "id": "8078e1fea1572489",
   "outputs": [
    {
     "name": "stdout",
     "output_type": "stream",
     "text": [
      "字母:36,空格:1,数字:8,其他字符:4\n"
     ]
    }
   ],
   "execution_count": 5
  },
  {
   "metadata": {},
   "cell_type": "markdown",
   "source": "请试着从键盘上输入10个整数，并对这10个数进行排序处理及输出。",
   "id": "54fa01851cc76655"
  },
  {
   "metadata": {
    "ExecuteTime": {
     "end_time": "2024-08-07T00:45:12.171920Z",
     "start_time": "2024-08-07T00:45:07.318686Z"
    }
   },
   "cell_type": "code",
   "source": [
    "def bubble_sort(datas):\n",
    "    # 冒泡排序\n",
    "    for i in range(len(datas) - 1):\n",
    "        for j in range(i + 1, len(datas)):\n",
    "            if datas[j] < datas[i]:\n",
    "                temp = datas[j]\n",
    "                datas[j] = datas[i]\n",
    "                datas[i] = temp\n",
    "\n",
    "\n",
    "datas = []\n",
    "for i in range(3):\n",
    "    datas.append(int(input(\"Input a number:\")))\n",
    "# 第一种方法：使用API\n",
    "# datas.sort()\n",
    "# 第二种方法：冒泡排序\n",
    "bubble_sort(datas)\n",
    "print(\"排序后的结果为:\", datas)\n"
   ],
   "id": "bd6534d262454753",
   "outputs": [
    {
     "name": "stdout",
     "output_type": "stream",
     "text": [
      "排序后的结果为: [1, 2, 5]\n"
     ]
    }
   ],
   "execution_count": 2
  },
  {
   "metadata": {},
   "cell_type": "code",
   "outputs": [],
   "execution_count": null,
   "source": "",
   "id": "77253c8d444deda6"
  }
 ],
 "metadata": {
  "kernelspec": {
   "display_name": "Python 3",
   "language": "python",
   "name": "python3"
  },
  "language_info": {
   "codemirror_mode": {
    "name": "ipython",
    "version": 2
   },
   "file_extension": ".py",
   "mimetype": "text/x-python",
   "name": "python",
   "nbconvert_exporter": "python",
   "pygments_lexer": "ipython2",
   "version": "2.7.6"
  }
 },
 "nbformat": 4,
 "nbformat_minor": 5
}
